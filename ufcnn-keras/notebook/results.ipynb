{
 "cells": [
  {
   "cell_type": "markdown",
   "metadata": {},
   "source": [
    "# Contents\n",
    "This notebook shows the results of different optimization runs. \n"
   ]
  },
  {
   "cell_type": "markdown",
   "metadata": {},
   "source": [
    "# Optimization 20 days\n",
    "\n",
    "| Name | Value \n",
    "| :- |-------------:|\n",
    "|Date:| 20160331 by Ernst\n",
    "|Days in Training:| 20\n",
    "|Days in Prediction:|10\n",
    "|Sequence Length:|500\n",
    "|Nr. of Features:|32\n",
    "|*Results*|\n",
    "|Nr. of Epochs:|3400\n",
    "|Runtime per Epoch:|8 sec\n",
    "|Last Training Loss:|0.06 / acc: 99.9 %\n",
    "|Typical Result:|\n",
    "|Sell Prediction C/P/T|2082/  5650/   5572\n",
    "|Buy Prediction C/P/T|2175/  5506/   7365\n",
    "|Pnl per Day:| Avg ca -400\n",
    "|Comment:| Error in Class assignment /  Buy & Sell mistake; Excellent Convergence"
   ]
  },
  {
   "cell_type": "markdown",
   "metadata": {},
   "source": [
    "# Optimization 20 days,  sequence len 5000\n",
    "\n",
    "| Name | Value \n",
    "| :- |-------------:|\n",
    "|Date:| 20160403 by Ernst, still in progress\n",
    "|Days in Training:| 20\n",
    "|Days in Prediction:|10\n",
    "|Sequence Length:|5000\n",
    "|Nr. of Features:|32\n",
    "|*Results*|\n",
    "|Nr. of Epochs:|800\n",
    "|Runtime per Epoch:|60 sec\n",
    "|Last Training Loss:|0.1 / 95.5 %\n",
    "|Typical Result:|\n",
    "|Sell Prediction C/P/T|1129/  2298/   5572\n",
    "|Buy Prediction C/P/T|1700/  2488/   7365\n",
    "|Pnl per Day:| Avg ca 60\n",
    "|Comment:|  Convergence very bad. Aborted after approx 3500 iterations, no usable result, big losses\n"
   ]
  },
  {
   "cell_type": "markdown",
   "metadata": {},
   "source": [
    "# Optimization 20 days,  sequence len 500, Signals without span\n",
    "Signals were created using create_signals_bid_ask.py, without spy.\n",
    "\n",
    "| Name | Value \n",
    "| :- |-------------:|\n",
    "|Date:| 20160411 by Ernst directory ufcnn4; \n",
    "|Days in Training:| 72\n",
    "|Days in Prediction:|18\n",
    "|Sequence Length:|500\n",
    "|Nr. of Features:|32\n",
    "|*Results*|\n",
    "|Nr. of Epochs:|2500\n",
    "|Runtime per Epoch:|60 sec\n",
    "|Last Training Loss:|0.02 / 99.5 %\n",
    "|Typical Result:|\n",
    "|Sell: Prediction C/P/T|      102/   157/    232\n",
    "| Buy: Prediction C/P/T|        92/   128/    225\n",
    "| Hold: Prediction C/P/T|     52199/ 52462/  52290\n",
    "|Comment:|  Convergence excellent. nevertheless, big losses => TEST WHY\n",
    "\n",
    "PnL:  -277.00 InvestedTics: 53857 /  53866\n",
    "PnL:  -373.00 InvestedTics: 53876 /  53888\n",
    "PnL:  -450.00 InvestedTics: 54437 /  54469\n",
    "PnL:  -684.00 InvestedTics: 54927 /  55001\n",
    "PnL:  -787.00 InvestedTics: 53887 /  53947\n",
    "PnL:  -632.00 InvestedTics: 54640 /  54641\n",
    "PnL: -1186.00 InvestedTics: 53782 /  53790\n",
    "PnL:  -708.00 InvestedTics: 54794 /  54805\n",
    "PnL:  -841.00 InvestedTics: 54070 /  54075\n",
    "PnL:  -700.00 InvestedTics: 54577 /  54583\n",
    "PnL: -1101.00 InvestedTics: 53674 /  53679\n",
    "PnL:  -661.00 InvestedTics: 53490 /  53588\n",
    "PnL:  -794.00 InvestedTics: 53485 /  53540\n",
    "PnL:  -513.00 InvestedTics: 52732 /  52747\n",
    "PnL:  -458.00 InvestedTics: 52907 /  52914\n",
    "PnL: -1029.00 InvestedTics: 54222 /  54226\n",
    "PnL:  -583.00 InvestedTics: 53679 /  53688\n",
    "PnL:  -699.00 InvestedTics: 53971 /  54092\n",
    "PnL:  -452.00 InvestedTics: 53605 /  53622\n",
    "PnL:  -732.00 InvestedTics: 54300 /  54325\n",
    "\n"
   ]
  }
 ],
 "metadata": {
  "kernelspec": {
   "display_name": "Python 3",
   "language": "python",
   "name": "python3"
  },
  "language_info": {
   "codemirror_mode": {
    "name": "ipython",
    "version": 3
   },
   "file_extension": ".py",
   "mimetype": "text/x-python",
   "name": "python",
   "nbconvert_exporter": "python",
   "pygments_lexer": "ipython3",
   "version": "3.5.1"
  }
 },
 "nbformat": 4,
 "nbformat_minor": 0
}
