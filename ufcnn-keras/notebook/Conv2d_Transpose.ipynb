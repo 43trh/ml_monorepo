{
 "cells": [
  {
   "cell_type": "markdown",
   "metadata": {},
   "source": [
    "# Resources\n",
    "\n",
    "## Karpathy\n",
    "in this video (Pt. 13 from the Karpathy et al. lecture), at minute 17:00 Justin Johnson starts to talk about the FCNN (Roni' s blueprint) paper, and at min. 20:00 he starts to describe in detail how the \"Deconvolution\" works.\n",
    "\n",
    "https://www.youtube.com/watch?v=ByjaPdWXKJ4\n",
    "\n",
    "\n",
    "## Tensor Flow\n",
    "Tensor Flow already has a \"Deconvolution\" operation,\n",
    "tf.nn.conv2d_transpose(value, filter, output_shape, strides, padding='SAME', name=None)\n",
    "\n",
    "see also: Just a simple use example of the conv2d_transpose function in TensorFlow. Its run on MNIST.\n",
    "https://github.com/loliverhennigh/All-Convnet-Autoencoder-Example\n",
    "\n",
    "\n",
    "## Theano\n",
    "\n",
    "there is an issue to implement conv2d_transpose in Theano\n",
    "\n",
    "https://github.com/Theano/Theano/issues/3989\n",
    "\n",
    "Its last entry: @meanmee: this is an open issue, meaning it is not done yet. Someone has been assigned to it, though, so it should become available soon.\n",
    "\n",
    "\n",
    "## Status & File Description:\n",
    "\n",
    "1) mnist_autoencoder.py\n",
    "a small autoencoder to encode the mnist dataset. Compiling and running, but not working. Needs more MaxPool, and more conv2d_transpose. Inspired by loliverhennigh, see above.\n",
    "\n",
    "2) convolution_transpose.py \n",
    "needs to go into keras/layers/. Input of the weight and bias dimensions is not Keras-Like. Needs Conv1D if Conv2D is confirmed to be working.\n",
    "\n",
    "\n",
    "### Store for important things: Optimisation\n",
    "\n",
    "\"While previous GAN work has used momentum to accelerate training, we used the Adam optimizer\n",
    "(Kingma & Ba, 2014) with tuned hyperparameters. We found the suggested learning rate of 0.001,\n",
    "to be too high, using 0.0002 instead. Additionally, we found leaving the momentum term β 1 at the\n",
    "suggested value of 0.9 resulted in training oscillation and instability while reducing it to 0.5 helped\n",
    "stabilize training.\" (UNSUPERVISED REPRESENTATION LEARNING WITH DEEP CONVOLUTIONAL\n",
    "GENERATIVE ADVERSARIAL N ETWORKS) Alec Radford & Luke Metz\n",
    "\n",
    "\n"
   ]
  }
 ],
 "metadata": {
  "kernelspec": {
   "display_name": "Python 3",
   "language": "python",
   "name": "python3"
  },
  "language_info": {
   "codemirror_mode": {
    "name": "ipython",
    "version": 3
   },
   "file_extension": ".py",
   "mimetype": "text/x-python",
   "name": "python",
   "nbconvert_exporter": "python",
   "pygments_lexer": "ipython3",
   "version": "3.5.1"
  }
 },
 "nbformat": 4,
 "nbformat_minor": 0
}
