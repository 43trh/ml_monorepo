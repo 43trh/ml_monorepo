{
 "cells": [
  {
   "cell_type": "code",
   "execution_count": 1,
   "metadata": {
    "collapsed": true,
    "scrolled": false
   },
   "outputs": [],
   "source": [
    "%matplotlib inline\n",
    "\n",
    "import os\n",
    "from market_profile import MarketProfile\n",
    "from google_finance import *"
   ]
  },
  {
   "cell_type": "markdown",
   "metadata": {},
   "source": [
    "Load google finance data from filesystem, or download and save locally"
   ]
  },
  {
   "cell_type": "code",
   "execution_count": 2,
   "metadata": {
    "collapsed": true
   },
   "outputs": [],
   "source": [
    "if not os.path.exists('google.txt'):\n",
    "    get_google_data('google.txt', 'GOOG', 60 * 30, 5)\n",
    "    \n",
    "df = read_google_data('google.txt')"
   ]
  },
  {
   "cell_type": "markdown",
   "metadata": {},
   "source": [
    "Create the MarketProfile based on the dataframe of Google Finance data (OHLCV)"
   ]
  },
  {
   "cell_type": "code",
   "execution_count": 3,
   "metadata": {
    "collapsed": true
   },
   "outputs": [],
   "source": [
    "mp = MarketProfile(df, tick_size=1)\n",
    "mp_slice = mp[df.index.max() - pd.Timedelta(6.5, 'h'):df.index.max()]"
   ]
  },
  {
   "cell_type": "markdown",
   "metadata": {},
   "source": [
    "Show a nice plot of the calculated profile"
   ]
  },
  {
   "cell_type": "code",
   "execution_count": 4,
   "metadata": {},
   "outputs": [
    {
     "data": {
      "text/plain": [
       "<matplotlib.axes._subplots.AxesSubplot at 0x10e0aec90>"
      ]
     },
     "execution_count": 4,
     "metadata": {},
     "output_type": "execute_result"
    },
    {
     "data": {
      "image/png": "[encoded data removed]",
      "text/plain": [
       "<matplotlib.figure.Figure at 0x10e0ae6d0>"
      ]
     },
     "metadata": {},
     "output_type": "display_data"
    }
   ],
   "source": [
    "data = mp_slice.profile\n",
    "data.plot(kind='bar')"
   ]
  },
  {
   "cell_type": "markdown",
   "metadata": {},
   "source": [
    "Show some of the indicators that were calculated from the profile above"
   ]
  },
  {
   "cell_type": "code",
   "execution_count": 5,
   "metadata": {},
   "outputs": [
    {
     "name": "stdout",
     "output_type": "stream",
     "text": [
      "Initial balance: 963.360000, 972.540000\n",
      "Opening range: 964.000000, 966.740000\n",
      "POC: 978.900000\n",
      "Profile range: 964.800000, 978.900000\n",
      "Value area: 972.750000, 978.900000\n",
      "Balanced Target: 993.000000\n"
     ]
    }
   ],
   "source": [
    "print \"Initial balance: %f, %f\" % mp_slice.initial_balance()\n",
    "print \"Opening range: %f, %f\" % mp_slice.open_range()\n",
    "print \"POC: %f\" % mp_slice.poc_price\n",
    "print \"Profile range: %f, %f\" % mp_slice.profile_range\n",
    "print \"Value area: %f, %f\" % mp_slice.value_area\n",
    "print \"Balanced Target: %f\" % mp_slice.balanced_target"
   ]
  }
 ],
 "metadata": {
  "kernelspec": {
   "display_name": "Python 2",
   "language": "python",
   "name": "python2"
  },
  "language_info": {
   "codemirror_mode": {
    "name": "ipython",
    "version": 2
   },
   "file_extension": ".py",
   "mimetype": "text/x-python",
   "name": "python",
   "nbconvert_exporter": "python",
   "pygments_lexer": "ipython2",
   "version": "2.7.14"
  }
 },
 "nbformat": 4,
 "nbformat_minor": 2
}
